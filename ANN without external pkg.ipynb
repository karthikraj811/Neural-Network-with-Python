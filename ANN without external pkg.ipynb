{
 "cells": [
  {
   "cell_type": "code",
   "execution_count": 105,
   "metadata": {},
   "outputs": [],
   "source": [
    "import numpy as np\n",
    "\n",
    "import random\n"
   ]
  },
  {
   "cell_type": "code",
   "execution_count": 133,
   "metadata": {},
   "outputs": [],
   "source": [
    "random.seed(1)\n",
    "\n",
    "X = [[2,22,12,-43],\n",
    "    [-3,12,-15,43],\n",
    "    [10,-33,14,45]]\n",
    "\n",
    "\n",
    "class HiddenLayer():\n",
    "    def __init__(self,n_inputs,n_neurons):\n",
    "        \n",
    "        self.weights = np.random.randn(n_inputs,n_neurons)\n",
    "        \n",
    "        #or\n",
    "        #self.weights = np.random.randn(n_neurons,n_inputs).T\n",
    "        \n",
    "        self.biases = np.zeros((1,n_neurons)) +1.2\n",
    "        \n",
    "    def Forward(self,inputs):\n",
    "        self.output = np.dot(inputs , self.weights) + self.biases\n",
    "\n",
    "        \n",
    "class Activate_neurons():\n",
    "    \n",
    "    def activate_ReLu(self,inputs):\n",
    "        self.output = np.maximum(0,inputs)"
   ]
  },
  {
   "cell_type": "code",
   "execution_count": 134,
   "metadata": {},
   "outputs": [],
   "source": [
    "layer1 = HiddenLayer(4,5)"
   ]
  },
  {
   "cell_type": "code",
   "execution_count": 135,
   "metadata": {},
   "outputs": [],
   "source": [
    "layer1.Forward(X)"
   ]
  },
  {
   "cell_type": "code",
   "execution_count": 136,
   "metadata": {},
   "outputs": [
    {
     "data": {
      "text/plain": [
       "array([[ 52.98715251,   5.8261633 ,  45.62975131, -49.12326763,\n",
       "         23.98892182],\n",
       "       [ -7.99019761,  54.50088581, -29.32093515,   7.1294403 ,\n",
       "          7.24438025],\n",
       "       [-70.43134963, -45.29304467, -65.93300312, 104.23813394,\n",
       "        -32.67538957]])"
      ]
     },
     "execution_count": 136,
     "metadata": {},
     "output_type": "execute_result"
    }
   ],
   "source": [
    "layer1.output"
   ]
  },
  {
   "cell_type": "code",
   "execution_count": 137,
   "metadata": {},
   "outputs": [],
   "source": [
    "activate = Activate_neurons()\n",
    "activate.activate_ReLu(layer1.output)"
   ]
  },
  {
   "cell_type": "code",
   "execution_count": 138,
   "metadata": {},
   "outputs": [
    {
     "data": {
      "text/plain": [
       "array([[ 52.98715251,   5.8261633 ,  45.62975131,   0.        ,\n",
       "         23.98892182],\n",
       "       [  0.        ,  54.50088581,   0.        ,   7.1294403 ,\n",
       "          7.24438025],\n",
       "       [  0.        ,   0.        ,   0.        , 104.23813394,\n",
       "          0.        ]])"
      ]
     },
     "execution_count": 138,
     "metadata": {},
     "output_type": "execute_result"
    }
   ],
   "source": [
    "activate.output"
   ]
  },
  {
   "cell_type": "code",
   "execution_count": 139,
   "metadata": {},
   "outputs": [],
   "source": [
    "layer2 = HiddenLayer(5, 2)\n",
    "layer2.Forward(activate.output)"
   ]
  },
  {
   "cell_type": "code",
   "execution_count": 140,
   "metadata": {},
   "outputs": [],
   "source": [
    "activate2 = Activate_neurons()\n",
    "activate2.activate_ReLu(layer2.output)"
   ]
  },
  {
   "cell_type": "code",
   "execution_count": 141,
   "metadata": {},
   "outputs": [
    {
     "data": {
      "text/plain": [
       "array([[26.11313657, 22.837741  ],\n",
       "       [50.7941653 , 51.45146618],\n",
       "       [ 9.31192915, 65.65880457]])"
      ]
     },
     "execution_count": 141,
     "metadata": {},
     "output_type": "execute_result"
    }
   ],
   "source": [
    "activate2.output"
   ]
  },
  {
   "cell_type": "code",
   "execution_count": null,
   "metadata": {},
   "outputs": [],
   "source": []
  }
 ],
 "metadata": {
  "kernelspec": {
   "display_name": "Python 3",
   "language": "python",
   "name": "python3"
  },
  "language_info": {
   "codemirror_mode": {
    "name": "ipython",
    "version": 3
   },
   "file_extension": ".py",
   "mimetype": "text/x-python",
   "name": "python",
   "nbconvert_exporter": "python",
   "pygments_lexer": "ipython3",
   "version": "3.8.3"
  }
 },
 "nbformat": 4,
 "nbformat_minor": 4
}
